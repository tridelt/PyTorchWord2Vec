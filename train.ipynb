{
 "cells": [
  {
   "cell_type": "markdown",
   "metadata": {},
   "source": [
    "# PREPROCESSING"
   ]
  },
  {
   "cell_type": "code",
   "execution_count": 1,
   "metadata": {},
   "outputs": [],
   "source": [
    "# processes a textfile according with skip-gram algorithm\n",
    "# returns a list in the following format [[7,4],[42,44], ...]\n",
    "from preprocessing import Preprocess\n",
    "from utils import createWordPairs\n",
    "\n",
    "# Variables: \n",
    "#     threshold: how many emojis count as a sequence\n",
    "#     window_size: determine how far to the left and right of center_word the skip-gram algo forms word_pairs\n",
    "threshold = 2\n",
    "window_size = 8\n",
    "\n",
    "indexes = Preprocess('./data/initializationSet.txt', threshold)\n",
    "trainingCorpus = Preprocess('./data/trainingSet.txt', threshold)\n",
    "validationCorpus = Preprocess('./data/validationSet.txt', threshold)\n",
    "\n",
    "trainingPairs = createWordPairs(indexes, trainingCorpus, window_size)\n",
    "validationPairs = createWordPairs(indexes, validationCorpus, window_size)"
   ]
  },
  {
   "cell_type": "markdown",
   "metadata": {},
   "source": [
    "# TRAINING"
   ]
  },
  {
   "cell_type": "code",
   "execution_count": null,
   "metadata": {},
   "outputs": [],
   "source": [
    "# best trainable after extending the data_rate_limit..\n",
    "# use terminal cmd w/ MAC: \"jupyter notebook --NotebookApp.iopub_data_rate_limit=10000000000\"\n",
    "\n",
    "import torch\n",
    "import numpy as np\n",
    "from torch.utils.data import Dataset, DataLoader\n",
    "\n",
    "from dataset import LoadedDataSet\n",
    "from model import Word2Vec\n",
    "from utils import EarlyStopping\n",
    "\n",
    "# HyperParams\n",
    "dimensionSize = 300\n",
    "num_epochs = 600\n",
    "lr = 0.1\n",
    "batchSize = 150\n",
    "patience = 25\n",
    "save_name = \"smalldims.w2v\"\n",
    "verbose = True\n",
    "\n",
    "trainingDataset = LoadedDataSet(trainingPairs)\n",
    "trainingLoader = DataLoader(trainingDataset, batchSize, shuffle=True) \n",
    "validationDataset = LoadedDataSet(validationPairs)\n",
    "validationLoader = DataLoader(validationDataset, batchSize, shuffle=True) \n",
    "\n",
    "model = Word2Vec(indexes.vocabulary_size, dimensionSize)\n",
    "optimizer = torch.optim.Adam(model.parameters(), lr)\n",
    "# Variables for Scheduler:\n",
    "scheduler = torch.optim.lr_scheduler.CosineAnnealingLR(optimizer, T_max=len(trainingLoader), eta_min=0, last_epoch=-1)\n",
    "\n",
    "# initialize the early_stopping object\n",
    "early_stopping = EarlyStopping(patience, verbose, save_name)\n",
    "avg_train_losses = []\n",
    "avg_valid_losses = []\n",
    "\n",
    "for e in range(1, num_epochs + 1):\n",
    "    train_losses = []\n",
    "    valid_losses = []\n",
    "    for param_group in optimizer.param_groups:\n",
    "        print(param_group['lr'])    \n",
    "        ###################\n",
    "        # train the model #\n",
    "        ###################     \n",
    "    for i, (data, target) in enumerate(trainingLoader):\n",
    "        model.train()\n",
    "        optimizer.zero_grad()\n",
    "        loss = model.forward(data, target)       \n",
    "        train_losses.append(loss.item())\n",
    "        loss.backward()\n",
    "        optimizer.step()     \n",
    "  \n",
    "        ######################    \n",
    "        # validate the model #\n",
    "        ######################\n",
    "    for i, (data, target) in enumerate(validationLoader): \n",
    "        model.eval()\n",
    "        with torch.no_grad():\n",
    "            loss = model.forward(data, target)       \n",
    "        valid_losses.append(loss.item())\n",
    "\n",
    "    avg_train_losses.append(np.average(train_losses))\n",
    "    avg_valid_losses.append(np.average(valid_losses))\n",
    "    \n",
    "    scheduler.step()\n",
    "    \n",
    "###################################################    \n",
    "#   visual Update regarding the current epoch   #\n",
    "###################################################    \n",
    "    epoch_len = len(str(num_epochs))\n",
    "    print_msg = (f'[{e:>{epoch_len}}/{num_epochs:>{epoch_len}}] ' +\n",
    "                 f'train_loss: {np.average(train_losses):.5f} ' +\n",
    "                 f'valid_loss: {np.average(valid_losses):.5f}')\n",
    "    print(print_msg)\n",
    "    \n",
    "        ##################\n",
    "        # Early Stopping #\n",
    "        ##################\n",
    "    early_stopping(np.average(valid_losses), model)\n",
    "    if early_stopping.early_stop:\n",
    "        print(\"EARLY STOPPING!\")\n",
    "        break"
   ]
  },
  {
   "cell_type": "markdown",
   "metadata": {},
   "source": [
    "# Visualizing the Loss and the Early Stopping Checkpoint¶"
   ]
  },
  {
   "cell_type": "code",
   "execution_count": null,
   "metadata": {},
   "outputs": [],
   "source": [
    "import matplotlib.pyplot as plt\n",
    "\n",
    "# visualize the loss as the network trained\n",
    "fig = plt.figure(figsize=(10,8))\n",
    "plt.plot(range(1,len(avg_train_losses)+1),avg_train_losses, label='Training Loss')\n",
    "plt.plot(range(1,len(avg_valid_losses)+1),avg_valid_losses,label='Validation Loss')\n",
    "\n",
    "# find position of lowest validation loss\n",
    "minposs = avg_valid_losses.index(min(avg_valid_losses))+1 \n",
    "plt.axvline(minposs, linestyle='--', color='r',label='Early Stopping Checkpoint')\n",
    "\n",
    "plt.xlabel('epochs')\n",
    "plt.ylabel('loss')\n",
    "plt.ylim(3.5, 7) # consistent scale\n",
    "plt.xlim(0, len(avg_train_losses)+1) # consistent scale\n",
    "plt.grid(True)\n",
    "plt.legend()\n",
    "plt.tight_layout()\n",
    "plt.show()\n",
    "fig.savefig('./SOFTMAX_trained/plots/loss_plot.png', bbox_inches='tight')"
   ]
  },
  {
   "cell_type": "markdown",
   "metadata": {},
   "source": [
    "# LOADING & EVALUATING TRAINED MODEL"
   ]
  },
  {
   "cell_type": "code",
   "execution_count": 4,
   "metadata": {},
   "outputs": [
    {
     "name": "stdout",
     "output_type": "stream",
     "text": [
      "the cosine similarity between 🇬🇧 and 🇺🇸 could not be computed.\n",
      "the cosine similarity between 🏅 and 🇺🇸 could not be computed.\n",
      "the cosine similarity between 🇺🇸 and ❤ could not be computed.\n",
      "the cosine similarity between 🇺🇸 and 💥 could not be computed.\n",
      "the cosine similarity between 🎤 and 🇳🇬 could not be computed.\n",
      "the cosine similarity between 🇳🇬 and 📲 could not be computed.\n",
      "the cosine similarity between 👇 and 🇳🇬 could not be computed.\n",
      "the cosine similarity between 🎧 and 🇳🇬 could not be computed.\n",
      "the cosine similarity between 🇳🇬 and 🎶 could not be computed.\n",
      "the cosine similarity between 👏 and ↪ could not be computed.\n",
      "\n",
      "mein Spearman: 0.571855655199557\n",
      "sein Spearman: 0.7590552598973165\n",
      "mein MAE ist 0.38039831472298946\n",
      "sein MAE ist 0.24206827309236947\n",
      "mein MSE ist 0.19802350560456594\n",
      "sein MSE ist 0.08023220381526104\n"
     ]
    },
    {
     "name": "stderr",
     "output_type": "stream",
     "text": [
      "/anaconda3/lib/python3.6/site-packages/sklearn/utils/validation.py:595: DataConversionWarning: Data with input dtype <U4 was converted to float64 by MinMaxScaler.\n",
      "  warnings.warn(msg, DataConversionWarning)\n",
      "/anaconda3/lib/python3.6/site-packages/scipy/stats/stats.py:248: RuntimeWarning: The input array could not be properly checked for nan values. nan values will be ignored.\n",
      "  \"values. nan values will be ignored.\", RuntimeWarning)\n"
     ]
    },
    {
     "data": {
      "text/plain": [
       "<evaluation.Metrics at 0x10527f0f0>"
      ]
     },
     "execution_count": 4,
     "metadata": {},
     "output_type": "execute_result"
    }
   ],
   "source": [
    "# loads the weights of a saved model and calculates and prints the following metrics: SpearManRank, MSE, MAE \n",
    "# look @ the data with TensorBoardX \"tensorboard --logdir runs\"\n",
    "\n",
    "import torch\n",
    "import os\n",
    "from evaluation import Metrics\n",
    "\n",
    "loadedModel = torch.load(os.path.join(\"SOFTMAX_trained\", \"600epochs400dims.w2v\"))\n",
    "Metrics(loadedModel, indexes)"
   ]
  },
  {
   "cell_type": "code",
   "execution_count": null,
   "metadata": {},
   "outputs": [],
   "source": []
  }
 ],
 "metadata": {
  "kernelspec": {
   "display_name": "Python 3",
   "language": "python",
   "name": "python3"
  },
  "language_info": {
   "codemirror_mode": {
    "name": "ipython",
    "version": 3
   },
   "file_extension": ".py",
   "mimetype": "text/x-python",
   "name": "python",
   "nbconvert_exporter": "python",
   "pygments_lexer": "ipython3",
   "version": "3.6.8"
  }
 },
 "nbformat": 4,
 "nbformat_minor": 2
}
