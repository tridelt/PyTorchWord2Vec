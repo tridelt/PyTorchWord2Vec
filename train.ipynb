{
 "cells": [
  {
   "cell_type": "markdown",
   "metadata": {},
   "source": [
    "# PREPROCESSING"
   ]
  },
  {
   "cell_type": "code",
   "execution_count": null,
   "metadata": {},
   "outputs": [],
   "source": [
    "# processes a textfile according with skip-gram algorithm\n",
    "# returns a list in the following format [[7,4],[42,44], ...]\n",
    "from preprocessing import Preprocess\n",
    "from utils import createWordPairs\n",
    "import pickle\n",
    "\n",
    "# Variables: \n",
    "#     threshold: how many emojis count as a sequence\n",
    "#     window_size: determine how far to the left and right of center_word the skip-gram algo forms word_pairs\n",
    "threshold = 2\n",
    "window_size = 8\n",
    "\n",
    "indexes = Preprocess('./data/initializationSet.txt', threshold)\n",
    "trainingCorpus = Preprocess('./data/trainingSet.txt', threshold)\n",
    "validationCorpus = Preprocess('./data/validationSet.txt', threshold)\n",
    "trainingPairs = createWordPairs(indexes, trainingCorpus, window_size)\n",
    "validationPairs = createWordPairs(indexes, validationCorpus, window_size)\n",
    "\n",
    "indexes_out = open(\"./Preprocess_Files/indexes.pickle\",\"wb\")\n",
    "trainingCorpus_out = open(\"./Preprocess_Files/trainingCorpus.pickle\",\"wb\")\n",
    "validationCorpus_out = open(\"./Preprocess_Files/validationCorpus.pickle\",\"wb\")\n",
    "trainingPairs_out = open(\"./Preprocess_Files/trainingPairs.pickle\",\"wb\")\n",
    "validationPairs_out = open(\"./Preprocess_Files/validationPairs.pickle\",\"wb\")\n",
    "\n",
    "pickle.dump(indexes, indexes_out)\n",
    "pickle.dump(trainingCorpus, trainingCorpus_out)\n",
    "pickle.dump(validationCorpus, validationCorpus_out)\n",
    "pickle.dump(trainingPairs, trainingPairs_out)\n",
    "pickle.dump(validationPairs, validationPairs_out)\n",
    "\n",
    "indexes_out.close()\n",
    "trainingCorpus_out.close()\n",
    "validationCorpus_out.close()\n",
    "trainingPairs_out.close()\n",
    "validationPairs_out.close()"
   ]
  },
  {
   "cell_type": "markdown",
   "metadata": {},
   "source": [
    "# TRAINING"
   ]
  },
  {
   "cell_type": "code",
   "execution_count": 2,
   "metadata": {},
   "outputs": [
    {
     "name": "stdout",
     "output_type": "stream",
     "text": [
      "[  1/600] train_loss: 6.50044 valid_loss: 6.03725\n",
      "Validation loss decreased (inf --> 6.037249).  Saving model ...\n"
     ]
    },
    {
     "ename": "KeyboardInterrupt",
     "evalue": "",
     "output_type": "error",
     "traceback": [
      "\u001b[0;31m---------------------------------------------------------------------------\u001b[0m",
      "\u001b[0;31mKeyboardInterrupt\u001b[0m                         Traceback (most recent call last)",
      "\u001b[0;32m<ipython-input-2-8fcdb3d4401b>\u001b[0m in \u001b[0;36m<module>\u001b[0;34m\u001b[0m\n\u001b[1;32m     71\u001b[0m         \u001b[0mtrain_losses\u001b[0m\u001b[0;34m.\u001b[0m\u001b[0mappend\u001b[0m\u001b[0;34m(\u001b[0m\u001b[0mloss\u001b[0m\u001b[0;34m.\u001b[0m\u001b[0mitem\u001b[0m\u001b[0;34m(\u001b[0m\u001b[0;34m)\u001b[0m\u001b[0;34m)\u001b[0m\u001b[0;34m\u001b[0m\u001b[0;34m\u001b[0m\u001b[0m\n\u001b[1;32m     72\u001b[0m         \u001b[0mloss\u001b[0m\u001b[0;34m.\u001b[0m\u001b[0mbackward\u001b[0m\u001b[0;34m(\u001b[0m\u001b[0;34m)\u001b[0m\u001b[0;34m\u001b[0m\u001b[0;34m\u001b[0m\u001b[0m\n\u001b[0;32m---> 73\u001b[0;31m         \u001b[0moptimizer\u001b[0m\u001b[0;34m.\u001b[0m\u001b[0mstep\u001b[0m\u001b[0;34m(\u001b[0m\u001b[0;34m)\u001b[0m\u001b[0;34m\u001b[0m\u001b[0;34m\u001b[0m\u001b[0m\n\u001b[0m\u001b[1;32m     74\u001b[0m \u001b[0;34m\u001b[0m\u001b[0m\n\u001b[1;32m     75\u001b[0m         \u001b[0;31m######################\u001b[0m\u001b[0;34m\u001b[0m\u001b[0;34m\u001b[0m\u001b[0;34m\u001b[0m\u001b[0m\n",
      "\u001b[0;32m/anaconda3/lib/python3.6/site-packages/torch/optim/adam.py\u001b[0m in \u001b[0;36mstep\u001b[0;34m(self, closure)\u001b[0m\n\u001b[1;32m     92\u001b[0m                 \u001b[0;31m# Decay the first and second moment running average coefficient\u001b[0m\u001b[0;34m\u001b[0m\u001b[0;34m\u001b[0m\u001b[0;34m\u001b[0m\u001b[0m\n\u001b[1;32m     93\u001b[0m                 \u001b[0mexp_avg\u001b[0m\u001b[0;34m.\u001b[0m\u001b[0mmul_\u001b[0m\u001b[0;34m(\u001b[0m\u001b[0mbeta1\u001b[0m\u001b[0;34m)\u001b[0m\u001b[0;34m.\u001b[0m\u001b[0madd_\u001b[0m\u001b[0;34m(\u001b[0m\u001b[0;36m1\u001b[0m \u001b[0;34m-\u001b[0m \u001b[0mbeta1\u001b[0m\u001b[0;34m,\u001b[0m \u001b[0mgrad\u001b[0m\u001b[0;34m)\u001b[0m\u001b[0;34m\u001b[0m\u001b[0;34m\u001b[0m\u001b[0m\n\u001b[0;32m---> 94\u001b[0;31m                 \u001b[0mexp_avg_sq\u001b[0m\u001b[0;34m.\u001b[0m\u001b[0mmul_\u001b[0m\u001b[0;34m(\u001b[0m\u001b[0mbeta2\u001b[0m\u001b[0;34m)\u001b[0m\u001b[0;34m.\u001b[0m\u001b[0maddcmul_\u001b[0m\u001b[0;34m(\u001b[0m\u001b[0;36m1\u001b[0m \u001b[0;34m-\u001b[0m \u001b[0mbeta2\u001b[0m\u001b[0;34m,\u001b[0m \u001b[0mgrad\u001b[0m\u001b[0;34m,\u001b[0m \u001b[0mgrad\u001b[0m\u001b[0;34m)\u001b[0m\u001b[0;34m\u001b[0m\u001b[0;34m\u001b[0m\u001b[0m\n\u001b[0m\u001b[1;32m     95\u001b[0m                 \u001b[0;32mif\u001b[0m \u001b[0mamsgrad\u001b[0m\u001b[0;34m:\u001b[0m\u001b[0;34m\u001b[0m\u001b[0;34m\u001b[0m\u001b[0m\n\u001b[1;32m     96\u001b[0m                     \u001b[0;31m# Maintains the maximum of all 2nd moment running avg. till now\u001b[0m\u001b[0;34m\u001b[0m\u001b[0;34m\u001b[0m\u001b[0;34m\u001b[0m\u001b[0m\n",
      "\u001b[0;31mKeyboardInterrupt\u001b[0m: "
     ]
    }
   ],
   "source": [
    "# best trainable after extending the data_rate_limit..\n",
    "# use terminal cmd w/ MAC: \"jupyter notebook --NotebookApp.iopub_data_rate_limit=10000000000\"\n",
    "\n",
    "import pickle\n",
    "import torch\n",
    "import numpy as np\n",
    "from torch.utils.data import Dataset, DataLoader\n",
    "\n",
    "from dataset import LoadedDataSet\n",
    "from model import Word2Vec\n",
    "from utils import EarlyStopping\n",
    "\n",
    "# importing preprocessing_files\n",
    "indexes_in = open(\"./Preprocess_Files/indexes.pickle\",\"rb\")\n",
    "trainingCorpus_in = open(\"./Preprocess_Files/trainingCorpus.pickle\",\"rb\")\n",
    "validationCorpus_in = open(\"./Preprocess_Files/validationCorpus.pickle\",\"rb\")\n",
    "trainingPairs_in = open(\"./Preprocess_Files/trainingPairs.pickle\",\"rb\")\n",
    "validationPairs_in = open(\"./Preprocess_Files/validationPairs.pickle\",\"rb\")\n",
    "\n",
    "indexes = pickle.load(indexes_in)\n",
    "trainingCorpus = pickle.load(trainingCorpus_in)\n",
    "validationCorpus = pickle.load(validationCorpus_in)\n",
    "trainingPairs = pickle.load(trainingPairs_in)\n",
    "validationPairs = pickle.load(validationPairs_in)\n",
    "\n",
    "indexes_in.close()\n",
    "trainingCorpus_in.close()\n",
    "validationCorpus_in.close()\n",
    "trainingPairs_in.close()\n",
    "validationPairs_in.close()\n",
    "\n",
    "# HyperParams\n",
    "dimensionSize = 300\n",
    "num_epochs = 600\n",
    "lr = 0.01\n",
    "batchSize = 150\n",
    "patience = 5\n",
    "save_name = \"noNumpy.w2v\"\n",
    "verbose = True\n",
    "\n",
    "# pickle_in = open(\"dict.pickle\",\"rb\")\n",
    "# example_dict = pickle.load(pickle_in)\n",
    "\n",
    "trainingDataset = LoadedDataSet(trainingPairs)\n",
    "trainingLoader = DataLoader(trainingDataset, batchSize, shuffle=True) \n",
    "validationDataset = LoadedDataSet(validationPairs)\n",
    "validationLoader = DataLoader(validationDataset, batchSize, shuffle=True) \n",
    "\n",
    "model = Word2Vec(indexes.vocabulary_size, dimensionSize)\n",
    "optimizer = torch.optim.Adam(model.parameters(), lr)\n",
    "# Variables for Scheduler:\n",
    "# scheduler = torch.optim.lr_scheduler.CosineAnnealingLR(optimizer, T_max=len(trainingLoader), eta_min=0, last_epoch=-1)\n",
    "\n",
    "# initialize the early_stopping object\n",
    "early_stopping = EarlyStopping(patience, verbose, save_name)\n",
    "avg_train_losses = []\n",
    "avg_valid_losses = []\n",
    "\n",
    "for e in range(1, num_epochs + 1):\n",
    "    train_losses = []\n",
    "    valid_losses = []\n",
    "#     for param_group in optimizer.param_groups:\n",
    "#         print(param_group['lr'])    \n",
    "#         ###################\n",
    "#         # train the model #\n",
    "#         ###################     \n",
    "    for i, (data, target) in enumerate(trainingLoader):\n",
    "        model.train()\n",
    "        optimizer.zero_grad()\n",
    "        loss = model.forward(data, target)       \n",
    "        train_losses.append(loss.item())\n",
    "        loss.backward()\n",
    "        optimizer.step()     \n",
    "  \n",
    "        ######################    \n",
    "        # validate the model #\n",
    "        ######################\n",
    "    for i, (data, target) in enumerate(validationLoader): \n",
    "        model.eval()\n",
    "        with torch.no_grad():\n",
    "            loss = model.forward(data, target)       \n",
    "        valid_losses.append(loss.item())\n",
    "\n",
    "    avg_train_losses.append(np.average(train_losses))\n",
    "    avg_valid_losses.append(np.average(valid_losses))\n",
    "    \n",
    "#     scheduler.step()\n",
    "    \n",
    "###################################################    \n",
    "#   visual Update regarding the current epoch   #\n",
    "###################################################    \n",
    "    epoch_len = len(str(num_epochs))\n",
    "    print_msg = (f'[{e:>{epoch_len}}/{num_epochs:>{epoch_len}}] ' +\n",
    "                 f'train_loss: {np.average(train_losses):.5f} ' +\n",
    "                 f'valid_loss: {np.average(valid_losses):.5f}')\n",
    "    print(print_msg)\n",
    "    \n",
    "        ##################\n",
    "        # Early Stopping #\n",
    "        ##################\n",
    "    early_stopping(np.average(valid_losses), model)\n",
    "    if early_stopping.early_stop:\n",
    "        print(\"EARLY STOPPING!\")\n",
    "        break"
   ]
  },
  {
   "cell_type": "markdown",
   "metadata": {},
   "source": [
    "# Visualizing the Loss and the Early Stopping Checkpoint¶"
   ]
  },
  {
   "cell_type": "code",
   "execution_count": null,
   "metadata": {},
   "outputs": [],
   "source": [
    "import matplotlib.pyplot as plt\n",
    "\n",
    "# visualize the loss as the network trained\n",
    "fig = plt.figure(figsize=(10,8))\n",
    "plt.plot(range(1,len(avg_train_losses)+1),avg_train_losses, label='Training Loss')\n",
    "plt.plot(range(1,len(avg_valid_losses)+1),avg_valid_losses,label='Validation Loss')\n",
    "\n",
    "# find position of lowest validation loss\n",
    "minposs = avg_valid_losses.index(min(avg_valid_losses))+1 \n",
    "plt.axvline(minposs, linestyle='--', color='r',label='Early Stopping Checkpoint')\n",
    "\n",
    "plt.xlabel('epochs')\n",
    "plt.ylabel('loss')\n",
    "plt.ylim(3.5, 7) # consistent scale\n",
    "plt.xlim(0, len(avg_train_losses)+1) # consistent scale\n",
    "plt.grid(True)\n",
    "plt.legend()\n",
    "plt.tight_layout()\n",
    "plt.show()\n",
    "fig.savefig('./SOFTMAX_trained/plots/loss_plot.png', bbox_inches='tight')"
   ]
  },
  {
   "cell_type": "markdown",
   "metadata": {},
   "source": [
    "# LOADING & EVALUATING TRAINED MODEL"
   ]
  },
  {
   "cell_type": "code",
   "execution_count": null,
   "metadata": {},
   "outputs": [],
   "source": [
    "# loads the weights of a saved model and calculates and prints the following metrics: SpearManRank, MSE, MAE \n",
    "# look @ the data with TensorBoardX \"tensorboard --logdir runs\"\n",
    "\n",
    "import torch\n",
    "import os\n",
    "from evaluation import Metrics\n",
    "\n",
    "loadedModel = torch.load(os.path.join(\"SOFTMAX_trained\", \"attempt#4.w2v\"))\n",
    "Metrics(loadedModel, indexes)"
   ]
  },
  {
   "cell_type": "code",
   "execution_count": null,
   "metadata": {},
   "outputs": [],
   "source": [
    "import torch\n",
    "import os\n",
    "loadedModel = torch.load(os.path.join(\"SOFTMAX_trained\", \"noNumpy.w2v\"))\n"
   ]
  },
  {
   "cell_type": "code",
   "execution_count": null,
   "metadata": {},
   "outputs": [],
   "source": [
    "print(type(loadedModel.parameters()))"
   ]
  },
  {
   "cell_type": "code",
   "execution_count": null,
   "metadata": {},
   "outputs": [],
   "source": [
    "embedding.weight = torch.nn.Parameter(loadedModel.weight)\n"
   ]
  },
  {
   "cell_type": "code",
   "execution_count": null,
   "metadata": {},
   "outputs": [],
   "source": [
    "x = 0\n",
    "for param in loadedModel.parameters():\n",
    "    x = x + 1\n",
    "    print(param.data)\n",
    "print(x)"
   ]
  },
  {
   "cell_type": "code",
   "execution_count": null,
   "metadata": {},
   "outputs": [],
   "source": [
    "\n",
    "print(loadedModel.weight.data.cpu().numpy()[1][0])"
   ]
  },
  {
   "cell_type": "code",
   "execution_count": null,
   "metadata": {},
   "outputs": [],
   "source": [
    "model = loadedModel.weight.data.cpu().numpy()"
   ]
  },
  {
   "cell_type": "code",
   "execution_count": null,
   "metadata": {},
   "outputs": [],
   "source": [
    "#     .weight.data.cpu().numpy()\n",
    "model[1][0]"
   ]
  },
  {
   "cell_type": "code",
   "execution_count": null,
   "metadata": {},
   "outputs": [],
   "source": [
    "model.shape"
   ]
  },
  {
   "cell_type": "code",
   "execution_count": null,
   "metadata": {},
   "outputs": [],
   "source": [
    "import matplotlib.pyplot as plt\n",
    "imgplot = plt.imshow(model)"
   ]
  },
  {
   "cell_type": "code",
   "execution_count": null,
   "metadata": {},
   "outputs": [],
   "source": [
    "import matplotlib.pyplot as pp\n",
    "ar = [1, 2, 3, 8, 4, 5]\n",
    "pp.plot(model)\n",
    "pp.show()"
   ]
  },
  {
   "cell_type": "code",
   "execution_count": null,
   "metadata": {},
   "outputs": [],
   "source": []
  }
 ],
 "metadata": {
  "kernelspec": {
   "display_name": "Python 3",
   "language": "python",
   "name": "python3"
  },
  "language_info": {
   "codemirror_mode": {
    "name": "ipython",
    "version": 3
   },
   "file_extension": ".py",
   "mimetype": "text/x-python",
   "name": "python",
   "nbconvert_exporter": "python",
   "pygments_lexer": "ipython3",
   "version": "3.6.8"
  }
 },
 "nbformat": 4,
 "nbformat_minor": 2
}
