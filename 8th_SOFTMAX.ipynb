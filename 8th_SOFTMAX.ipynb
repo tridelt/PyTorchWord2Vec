{
 "cells": [
  {
   "cell_type": "markdown",
   "metadata": {},
   "source": [
    "# PREPROCESSING"
   ]
  },
  {
   "cell_type": "code",
   "execution_count": 1,
   "metadata": {},
   "outputs": [],
   "source": [
    "# processes a textfile according with skip-gram algorithm\n",
    "# returns a list in the following format [[7,4],[42,44], ...]\n",
    "\n",
    "from preprocessing import Preprocess\n",
    "preprocess = Preprocess()"
   ]
  },
  {
   "cell_type": "markdown",
   "metadata": {},
   "source": [
    "# TRAINING"
   ]
  },
  {
   "cell_type": "code",
   "execution_count": null,
   "metadata": {},
   "outputs": [],
   "source": [
    "# best trainable after extending the data_rate_limit\n",
    "# use terminal cmd w/ MAC: \"jupyter notebook --NotebookApp.iopub_data_rate_limit=10000000000\"\n",
    "\n",
    "import torch\n",
    "from torch.utils.data import Dataset, DataLoader\n",
    "from tensorboardX import SummaryWriter\n",
    "from tqdm import tqdm\n",
    "\n",
    "from dataset import LoadedDataSet\n",
    "from model import Word2Vec\n",
    "from utils import AverageMeter\n",
    "\n",
    "dimensionSize = 200\n",
    "num_epochs = 2\n",
    "lr = 0.001\n",
    "batchSize = 80\n",
    "\n",
    "dataset = LoadedDataSet(preprocess.idx_pairs)\n",
    "loader = DataLoader(dataset, batchSize, shuffle=True) \n",
    "model = Word2Vec(preprocess.vocabulary_size, dimensionSize)\n",
    "optimizer = torch.optim.Adam(model.parameters(), lr)\n",
    "writer = SummaryWriter()\n",
    "losses = AverageMeter()\n",
    "\n",
    "# print('total amount of batches {}'.format(len(idx_pairs) / batchSize))\n",
    "for e in range(num_epochs):\n",
    "    losses.reset()\n",
    "   \n",
    "    for i, (data, target) in enumerate(tqdm(loader)):   \n",
    "        n_iter = e * len(dataset) + i\n",
    "\n",
    "        loss = model.forward(data, target)  \n",
    "        \n",
    "#         compute gradient and do optimizer step        \n",
    "        optimizer.zero_grad()\n",
    "        loss.backward()\n",
    "#        think about adding clipping here\n",
    "#         nn.utils.clip_grad_norm_(model.parameters(), 5)\n",
    "        optimizer.step()     \n",
    "    \n",
    "        losses.update(loss.item(), batchSize)\n",
    "        \n",
    "        if i % 100 == 0:            \n",
    "            writer.add_scalar('loss', losses.val, n_iter)\n",
    "            writer.add_scalar('avg_loss', losses.avg, n_iter)\n",
    "            \n",
    "writer.close"
   ]
  },
  {
   "cell_type": "markdown",
   "metadata": {},
   "source": [
    "# SAVING TRAINED MODEL"
   ]
  },
  {
   "cell_type": "code",
   "execution_count": null,
   "metadata": {},
   "outputs": [],
   "source": [
    "import os\n",
    "\n",
    "if not os.path.exists(\"SOFTMAX_trained\"):\n",
    "    os.makedirs(\"SOFTMAX_trained\")\n",
    "    \n",
    "torch.save(model.input_embeddings(), os.path.join(\"SOFTMAX_trained\", \"attempt#1.w2v\"))"
   ]
  },
  {
   "cell_type": "markdown",
   "metadata": {},
   "source": [
    "# LOADING & EVALUATING TRAINED MODEL"
   ]
  },
  {
   "cell_type": "code",
   "execution_count": 2,
   "metadata": {},
   "outputs": [
    {
     "name": "stdout",
     "output_type": "stream",
     "text": [
      "the cosine similarity between 🇬🇧 and 🇺🇸 could not be computed.\n",
      "the cosine similarity between 🏅 and 🇺🇸 could not be computed.\n",
      "the cosine similarity between 🇺🇸 and ❤ could not be computed.\n",
      "the cosine similarity between 🇺🇸 and 💥 could not be computed.\n",
      "the cosine similarity between 🎤 and 🇳🇬 could not be computed.\n",
      "the cosine similarity between 🇳🇬 and 📲 could not be computed.\n",
      "the cosine similarity between 👇 and 🇳🇬 could not be computed.\n",
      "the cosine similarity between 🎧 and 🇳🇬 could not be computed.\n",
      "the cosine similarity between 🇳🇬 and 🎶 could not be computed.\n",
      "\n",
      "mein Spearman: 0.47803712272140936\n",
      "sein Spearman: 0.760323624228928\n",
      "mein MAE ist 0.29269872321215323\n",
      "sein MAE ist 0.24180360721442884\n",
      "mein MSE ist 0.1208135650397841\n",
      "sein MSE ist 0.08009566633266534\n"
     ]
    },
    {
     "name": "stderr",
     "output_type": "stream",
     "text": [
      "/anaconda3/lib/python3.6/site-packages/sklearn/utils/validation.py:595: DataConversionWarning: Data with input dtype <U4 was converted to float64 by MinMaxScaler.\n",
      "  warnings.warn(msg, DataConversionWarning)\n",
      "/anaconda3/lib/python3.6/site-packages/scipy/stats/stats.py:248: RuntimeWarning: The input array could not be properly checked for nan values. nan values will be ignored.\n",
      "  \"values. nan values will be ignored.\", RuntimeWarning)\n"
     ]
    },
    {
     "data": {
      "text/plain": [
       "<evaluation.Metrics at 0x121b770f0>"
      ]
     },
     "execution_count": 2,
     "metadata": {},
     "output_type": "execute_result"
    }
   ],
   "source": [
    "# loads the weights of a saved model and calculates and prints the following metrics: SpearManRank, MSE, MAE \n",
    "# look @ the data with TensorBoardX \"tensorboard --logdir runs\"\n",
    "\n",
    "import torch\n",
    "import os\n",
    "from evaluation import Metrics\n",
    "\n",
    "loadedModel = torch.load(os.path.join(\"SOFTMAX_trained\", \"attempt#1.w2v\"))\n",
    "Metrics(loadedModel, preprocess)"
   ]
  },
  {
   "cell_type": "code",
   "execution_count": null,
   "metadata": {},
   "outputs": [],
   "source": []
  }
 ],
 "metadata": {
  "kernelspec": {
   "display_name": "Python 3",
   "language": "python",
   "name": "python3"
  },
  "language_info": {
   "codemirror_mode": {
    "name": "ipython",
    "version": 3
   },
   "file_extension": ".py",
   "mimetype": "text/x-python",
   "name": "python",
   "nbconvert_exporter": "python",
   "pygments_lexer": "ipython3",
   "version": "3.6.8"
  }
 },
 "nbformat": 4,
 "nbformat_minor": 2
}
