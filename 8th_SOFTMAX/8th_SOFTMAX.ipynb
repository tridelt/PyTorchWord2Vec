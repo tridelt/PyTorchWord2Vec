{
 "cells": [
  {
   "cell_type": "markdown",
   "metadata": {},
   "source": [
    "# PREPROCESSING"
   ]
  },
  {
   "cell_type": "code",
   "execution_count": 1,
   "metadata": {},
   "outputs": [],
   "source": [
    "# processes a textfile according with skip-gram algorithm\n",
    "# returns a list in the following format [[7,4],[42,44], ...]\n",
    "\n",
    "from preprocessing import Preprocess\n",
    "preprocess = Preprocess()"
   ]
  },
  {
   "cell_type": "markdown",
   "metadata": {},
   "source": [
    "# TRAINING"
   ]
  },
  {
   "cell_type": "code",
   "execution_count": null,
   "metadata": {},
   "outputs": [],
   "source": [
    "# best trainable after extending the data_rate_limit\n",
    "# use terminal cmd w/ MAC: \"jupyter notebook --NotebookApp.iopub_data_rate_limit=10000000000\"\n",
    "\n",
    "import torch\n",
    "from torch.utils.data import Dataset, DataLoader\n",
    "from tensorboardX import SummaryWriter\n",
    "from tqdm import tqdm\n",
    "\n",
    "from dataset import LoadedDataSet\n",
    "from model import Word2Vec\n",
    "from utils import AverageMeter\n",
    "\n",
    "dimensionSize = 200\n",
    "num_epochs = 50\n",
    "lr = 0.001\n",
    "batchSize = 80\n",
    "\n",
    "model = Word2Vec(preprocess.vocabulary_size, dimensionSize)\n",
    "optimizer = torch.optim.Adam(model.parameters(), lr)\n",
    "writer = SummaryWriter()\n",
    "losses = AverageMeter()\n",
    "\n",
    "# print('total amount of batches {}'.format(len(idx_pairs) / batchSize))\n",
    "for e in range(num_epochs):\n",
    "    losses.reset()\n",
    "\n",
    "    dataset = LoadedDataSet(preprocess.idx_pairs)\n",
    "    loader = DataLoader(dataset, batchSize, shuffle=True)    \n",
    "    pbar = tqdm(loader)\n",
    "\n",
    "    for i, (data, target) in enumerate(pbar):   \n",
    "        n_iter = e * len(dataset) + i\n",
    "\n",
    "        loss = model.forward(data, target)  \n",
    "        \n",
    "#         compute gradient and do optimizer step        \n",
    "        optimizer.zero_grad()\n",
    "        loss.backward()\n",
    "#        think about adding clipping here\n",
    "#         nn.utils.clip_grad_norm_(model.parameters(), 5)\n",
    "        optimizer.step()     \n",
    "    \n",
    "        losses.update(loss.item(), batchSize)\n",
    "        \n",
    "        if i % 100 == 0:            \n",
    "            writer.add_scalar('loss', losses.val, n_iter)\n",
    "            writer.add_scalar('avg_loss', losses.avg, n_iter)\n",
    "            \n",
    "writer.export_scalars_to_json(\"./all_scalars.json\")\n",
    "writer.close"
   ]
  },
  {
   "cell_type": "markdown",
   "metadata": {},
   "source": [
    "# SAVING TRAINED MODEL"
   ]
  },
  {
   "cell_type": "code",
   "execution_count": null,
   "metadata": {},
   "outputs": [],
   "source": [
    "import os\n",
    "# change it to numpy\n",
    "\n",
    "if not os.path.exists(\"SOFTMAX_trained\"):\n",
    "    os.makedirs(\"SOFTMAX_trained\")\n",
    "    \n",
    "torch.save(model.input_embeddings(), os.path.join(\"SOFTMAX_trained\", \"attempt#1.w2v\"))"
   ]
  },
  {
   "cell_type": "markdown",
   "metadata": {},
   "source": [
    "# LOADING & EVALUATING TRAINED MODEL"
   ]
  },
  {
   "cell_type": "code",
   "execution_count": 2,
   "metadata": {},
   "outputs": [
    {
     "ename": "ModuleNotFoundError",
     "evalue": "No module named 'torch'",
     "output_type": "error",
     "traceback": [
      "\u001b[0;31m---------------------------------------------------------------------------\u001b[0m",
      "\u001b[0;31mModuleNotFoundError\u001b[0m                       Traceback (most recent call last)",
      "\u001b[0;32m<ipython-input-2-58884c1c2ca8>\u001b[0m in \u001b[0;36m<module>\u001b[0;34m\u001b[0m\n\u001b[1;32m      2\u001b[0m \u001b[0;31m# look @ the data with TensorBoardX \"tensorboard --logdir runs\"\u001b[0m\u001b[0;34m\u001b[0m\u001b[0;34m\u001b[0m\u001b[0;34m\u001b[0m\u001b[0m\n\u001b[1;32m      3\u001b[0m \u001b[0;34m\u001b[0m\u001b[0m\n\u001b[0;32m----> 4\u001b[0;31m \u001b[0;32mimport\u001b[0m \u001b[0mtorch\u001b[0m\u001b[0;34m\u001b[0m\u001b[0;34m\u001b[0m\u001b[0m\n\u001b[0m\u001b[1;32m      5\u001b[0m \u001b[0;32mimport\u001b[0m \u001b[0mos\u001b[0m\u001b[0;34m\u001b[0m\u001b[0;34m\u001b[0m\u001b[0m\n\u001b[1;32m      6\u001b[0m \u001b[0;32mfrom\u001b[0m \u001b[0mevaluation\u001b[0m \u001b[0;32mimport\u001b[0m \u001b[0mMetrics\u001b[0m\u001b[0;34m\u001b[0m\u001b[0;34m\u001b[0m\u001b[0m\n",
      "\u001b[0;31mModuleNotFoundError\u001b[0m: No module named 'torch'"
     ]
    }
   ],
   "source": [
    "# loads the weights of a saved model and calculates and prints the following metrics: SpearManRank, MSE, MAE \n",
    "# look @ the data with TensorBoardX \"tensorboard --logdir runs\"\n",
    "\n",
    "import torch\n",
    "import os\n",
    "from evaluation import Metrics\n",
    "\n",
    "loadedModel = torch.load(os.path.join(\"SOFTMAX_trained\", \"attempt#1.w2v\"))\n",
    "Metrics(loadedModel, preprocess)"
   ]
  },
  {
   "cell_type": "code",
   "execution_count": null,
   "metadata": {},
   "outputs": [],
   "source": []
  }
 ],
 "metadata": {
  "kernelspec": {
   "display_name": "Python 3",
   "language": "python",
   "name": "python3"
  },
  "language_info": {
   "codemirror_mode": {
    "name": "ipython",
    "version": 3
   },
   "file_extension": ".py",
   "mimetype": "text/x-python",
   "name": "python",
   "nbconvert_exporter": "python",
   "pygments_lexer": "ipython3",
   "version": "3.6.8"
  }
 },
 "nbformat": 4,
 "nbformat_minor": 2
}
